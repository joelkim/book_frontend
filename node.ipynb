{
 "cells": [
  {
   "cell_type": "markdown",
   "id": "bd0377a9",
   "metadata": {},
   "source": [
    "# node 명령"
   ]
  },
  {
   "cell_type": "markdown",
   "id": "5b9d215d",
   "metadata": {},
   "source": []
  }
 ],
 "metadata": {
  "language_info": {
   "name": "python"
  }
 },
 "nbformat": 4,
 "nbformat_minor": 5
}
