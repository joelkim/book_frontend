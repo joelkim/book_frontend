{
 "cells": [
  {
   "cell_type": "markdown",
   "id": "48f1728a",
   "metadata": {},
   "source": [
    "# 모듈"
   ]
  },
  {
   "cell_type": "markdown",
   "id": "fc40e114",
   "metadata": {},
   "source": [
    "## ESM (ECMAScript Module)"
   ]
  },
  {
   "cell_type": "markdown",
   "id": "6f177373",
   "metadata": {},
   "source": [
    "## CommonJS"
   ]
  },
  {
   "cell_type": "markdown",
   "id": "f82df1f8",
   "metadata": {},
   "source": []
  }
 ],
 "metadata": {
  "language_info": {
   "name": "python"
  }
 },
 "nbformat": 4,
 "nbformat_minor": 5
}
