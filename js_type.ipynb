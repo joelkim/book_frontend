{
 "cells": [
  {
   "cell_type": "markdown",
   "id": "dbd5c599",
   "metadata": {},
   "source": [
    "# 자바스크립트 데이터 타입"
   ]
  },
  {
   "cell_type": "markdown",
   "id": "d4cd77ae",
   "metadata": {},
   "source": []
  }
 ],
 "metadata": {
  "language_info": {
   "name": "python"
  }
 },
 "nbformat": 4,
 "nbformat_minor": 5
}
