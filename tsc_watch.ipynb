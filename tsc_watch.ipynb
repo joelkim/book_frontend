{
 "cells": [
  {
   "cell_type": "markdown",
   "id": "787ef94a",
   "metadata": {},
   "source": [
    "# tsc-watch 패키지"
   ]
  },
  {
   "cell_type": "markdown",
   "id": "9933d961",
   "metadata": {},
   "source": [
    "## 정보"
   ]
  },
  {
   "cell_type": "markdown",
   "id": "a5a05ca9",
   "metadata": {},
   "source": [
    "- https://www.npmjs.com/package/tsc-watch/\n",
    "- https://github.com/gilamran/tsc-watch"
   ]
  },
  {
   "cell_type": "markdown",
   "id": "a9941daf",
   "metadata": {},
   "source": [
    "## 개요"
   ]
  },
  {
   "cell_type": "markdown",
   "id": "86bc6a7c",
   "metadata": {},
   "source": [
    "- tsc 컴파일러의 감시 기능에 후속 명령 실행 기능을 추가한 패키지\n"
   ]
  },
  {
   "cell_type": "markdown",
   "id": "8c6fe1dd",
   "metadata": {},
   "source": [
    "## 사용법"
   ]
  },
  {
   "cell_type": "markdown",
   "id": "c37aaaf9",
   "metadata": {},
   "source": [
    "### 커맨드라인 사용법"
   ]
  },
  {
   "cell_type": "markdown",
   "id": "0344bb08",
   "metadata": {},
   "source": [
    "```bash\n",
    "tsc-watch --onSuccess \"성공한 경우 추가 실행할 코드\"\n",
    "```\n",
    "\n",
    "```bash\n",
    "tsc-watch --onFailure \"실패한 경우 추가 실행할 코드\"\n",
    "```"
   ]
  },
  {
   "cell_type": "markdown",
   "id": "da76d1ff",
   "metadata": {},
   "source": []
  }
 ],
 "metadata": {
  "language_info": {
   "name": "python"
  }
 },
 "nbformat": 4,
 "nbformat_minor": 5
}
