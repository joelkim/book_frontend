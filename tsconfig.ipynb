{
 "cells": [
  {
   "cell_type": "markdown",
   "id": "2d6bb2ea",
   "metadata": {},
   "source": [
    "# 타입스크립트 설정"
   ]
  },
  {
   "cell_type": "markdown",
   "id": "c18a10f5",
   "metadata": {},
   "source": [
    "## `tsconfig.json` 파일"
   ]
  },
  {
   "cell_type": "markdown",
   "id": "424d8b54",
   "metadata": {},
   "source": []
  }
 ],
 "metadata": {
  "language_info": {
   "name": "python"
  }
 },
 "nbformat": 4,
 "nbformat_minor": 5
}
