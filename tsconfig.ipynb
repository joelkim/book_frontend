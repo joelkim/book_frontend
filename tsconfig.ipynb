{
 "cells": [
  {
   "cell_type": "markdown",
   "id": "2d6bb2ea",
   "metadata": {},
   "source": [
    "# 타입스크립트 설정"
   ]
  },
  {
   "cell_type": "markdown",
   "id": "c18a10f5",
   "metadata": {},
   "source": [
    "## `tsconfig.json` 파일"
   ]
  },
  {
   "cell_type": "markdown",
   "id": "be9149ac",
   "metadata": {},
   "source": [
    "- 입력 파일 없이 tsc 컴파일러를 호출하면 컴파일러는 현재 디렉토리에서부터 시작하여 상위 디렉토리 체인으로 `tsconfig.json` 파일을 검색\n",
    "- 입력 파일을 지정하면 `tsconfig.json` 파일 무시"
   ]
  },
  {
   "cell_type": "markdown",
   "id": "869efb78",
   "metadata": {},
   "source": [
    "## 최상위 레벨 설정"
   ]
  },
  {
   "cell_type": "markdown",
   "id": "01e2c4e0",
   "metadata": {},
   "source": [
    "- `compilerOptions`: 컴파일러 설정 옵션\n",
    "- `files`: 컴파일할 대상 파일에 대한 옵션\n",
    "- `include`: 컴파일할 대상 파일을 패턴으로 정의하는 옵션\n",
    "  - 별도로 정의하지 않는 경우 다음 파일 패턴 사용\n",
    "    - `.ts`: js 파일에 대응하는 타입스트립트 파일\n",
    "    - `.tsx`: 리액트 jsx 파일에 대응하는 타입스트립트 파일\n",
    "    - `.d.ts`: 타입 정의 선언 파일 (Type Definition Declaration File)\n",
    "- `exclude`: 컴파일에서 제외할 파일을 패턴으로 정의하는 옵션"
   ]
  },
  {
   "cell_type": "markdown",
   "id": "424d8b54",
   "metadata": {},
   "source": [
    "## compilerOptions"
   ]
  },
  {
   "cell_type": "markdown",
   "id": "ee190600",
   "metadata": {},
   "source": [
    "### `rootDir`"
   ]
  },
  {
   "cell_type": "markdown",
   "id": "dfb02506",
   "metadata": {},
   "source": [
    "- 컴파일할 파일이 있는 최상위 디렉토리\n",
    "- 일반적으로 `./src` 사용"
   ]
  },
  {
   "cell_type": "markdown",
   "id": "e66de196",
   "metadata": {},
   "source": [
    "### `outDir`\n"
   ]
  },
  {
   "cell_type": "markdown",
   "id": "6d8004e6",
   "metadata": {},
   "source": [
    "- 컴파일된 결과물을 출력하는 디렉토리\n",
    "- 일반적으로 `./dist` 사용 \n",
    "- 디렉토리가 없으면 컴파일시 자동 생성\n"
   ]
  },
  {
   "cell_type": "markdown",
   "id": "7cf5e779",
   "metadata": {},
   "source": [
    "### `target`\n"
   ]
  },
  {
   "cell_type": "markdown",
   "id": "84b55152",
   "metadata": {},
   "source": [
    "- 어떤 문법에 맞게 결과를 생성할지 지정하는 컴파일 목표\n"
   ]
  },
  {
   "cell_type": "markdown",
   "id": "aa3fdb72",
   "metadata": {},
   "source": [
    "### `allowJs`\n"
   ]
  },
  {
   "cell_type": "markdown",
   "id": "ce987f67",
   "metadata": {},
   "source": [
    "- 컴파일할 입력 파일에 자바스크립트 파일을 포함하여 타입스크립트에서도 자바스크립트 파일을 임포트하는 것을 허용할지 여부\n"
   ]
  },
  {
   "cell_type": "markdown",
   "id": "c28b297c",
   "metadata": {},
   "source": [
    "### `sourceMap`\n"
   ]
  },
  {
   "cell_type": "markdown",
   "id": "2ab32e1c",
   "metadata": {},
   "source": [
    "- 소스맵 파일을 생성할지 여부\n"
   ]
  },
  {
   "cell_type": "markdown",
   "id": "4a1aac7c",
   "metadata": {},
   "source": [
    "### `noEmitOnError`\n"
   ]
  },
  {
   "cell_type": "markdown",
   "id": "900cc627",
   "metadata": {},
   "source": [
    "- true로 설정하면 에러가 있는 경우 결과물을 출력하지 않음"
   ]
  },
  {
   "cell_type": "markdown",
   "id": "3df2e962",
   "metadata": {},
   "source": [
    "### `lib`"
   ]
  },
  {
   "cell_type": "markdown",
   "id": "d8c35ee4",
   "metadata": {},
   "source": [
    "- 기능 추가를 위한 옵션"
   ]
  },
  {
   "cell_type": "markdown",
   "id": "599b1f58",
   "metadata": {},
   "source": [
    "- High Level libraries"
   ]
  },
  {
   "cell_type": "markdown",
   "id": "de93d34e",
   "metadata": {},
   "source": [
    "| 옵션        | 기능 |\n",
    "|-|-----|\n",
    "| ES5\t        | Core definitions for all ES5 functionality |\n",
    "| ES2015\t    | Additional APIs available in ES2015 (also known as ES6) - array.find, Promise, Proxy, Symbol, Map, Set, Reflect, etc. |\n",
    "| ES6\t        | Alias for “ES2015” |\n",
    "| ES2016\t    | Additional APIs available in ES2016 - array.include, etc. |\n",
    "| ES7\t        | Alias for “ES2016” |\n",
    "| ES2017\t    | Additional APIs available in ES2017 - Object.entries, Object.values, Atomics, SharedArrayBuffer, date.formatToParts, typed arrays, - etc. |\n",
    "| ES2018\t    | Additional APIs available in ES2018 - async iterables, promise.finally, Intl.PluralRules, regexp.groups, etc. |\n",
    "| ES2019\t    | Additional APIs available in ES2019 - array.flat, array.flatMap, Object.fromEntries, string.trimStart, string.trimEnd, etc. |\n",
    "| ES2020\t    | Additional APIs available in ES2020 - string.matchAll, etc. |\n",
    "| ES2021\t    | Additional APIs available in ES2021 - promise.any, string.replaceAll etc. |\n",
    "| ES2022\t    | Additional APIs available in ES2022 - array.at, RegExp.hasIndices, etc. |\n",
    "| ES2023\t    | Additional APIs available in ES2023 - array.with, array.findLast, array.findLastIndex, array.toSorted, array.toReversed, etc. |\n",
    "| ESNext\t    | Additional APIs available in ESNext - This changes as the JavaScript specification evolves |\n",
    "| DOM\t        | DOM definitions - window, document, etc. |\n",
    "| WebWorker\t  | APIs available in WebWorker contexts |\n",
    "| ScriptHost\t| APIs for the Windows Script Hosting System |"
   ]
  },
  {
   "cell_type": "markdown",
   "id": "5c2162a3",
   "metadata": {},
   "source": [
    "- Individual library components"
   ]
  },
  {
   "cell_type": "markdown",
   "id": "f15ca136",
   "metadata": {},
   "source": [
    "- DOM.Iterable\n",
    "- ES2015.Core\n",
    "- ES2015.Collection\n",
    "- ES2015.Generator\n",
    "- ES2015.Iterable\n",
    "- ES2015.Promise\n",
    "- ES2015.Proxy\n",
    "- ES2015.Reflect\n",
    "- ES2015.Symbol\n",
    "- ES2015.Symbol.WellKnown\n",
    "- ES2016.Array.Include\n",
    "- ES2017.object\n",
    "- ES2017.Intl\n",
    "- ES2017.SharedMemory\n",
    "- ES2017.String\n",
    "- ES2017.TypedArrays\n",
    "- ES2018.Intl\n",
    "- ES2018.Promise\n",
    "- ES2018.RegExp\n",
    "- ES2019.Array\n",
    "- ES2019.Object\n",
    "- ES2019.String\n",
    "- ES2019.Symbol\n",
    "- ES2020.String\n",
    "- ES2020.Symbol.wellknown\n",
    "- ES2021.Promise\n",
    "- ES2021.String\n",
    "- ES2021.WeakRef\n",
    "- ESNext.AsyncIterable\n",
    "- ESNext.Array\n",
    "- ESNext.Intl\n",
    "- ESNext.Symbol"
   ]
  },
  {
   "cell_type": "markdown",
   "id": "2af684e5",
   "metadata": {},
   "source": []
  }
 ],
 "metadata": {
  "language_info": {
   "name": "python"
  }
 },
 "nbformat": 4,
 "nbformat_minor": 5
}
