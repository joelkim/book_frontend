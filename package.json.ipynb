{
 "cells": [
  {
   "cell_type": "markdown",
   "id": "acb6cc7c",
   "metadata": {},
   "source": [
    "# package.json"
   ]
  },
  {
   "cell_type": "markdown",
   "id": "a91085c9",
   "metadata": {},
   "source": [
    "## node.js 필드"
   ]
  },
  {
   "cell_type": "markdown",
   "id": "188d0c80",
   "metadata": {},
   "source": [
    "- name\n",
    "- main\n",
    "- type\n",
    "- exports\n",
    "- imports"
   ]
  },
  {
   "cell_type": "markdown",
   "id": "9c0a365b",
   "metadata": {},
   "source": [
    "### type"
   ]
  },
  {
   "cell_type": "markdown",
   "id": "fc6be26d",
   "metadata": {},
   "source": [
    "- \"module\": ES 모듈로 인식\n",
    "- \"commonjs\": CommonJS"
   ]
  },
  {
   "cell_type": "markdown",
   "id": "84223da6",
   "metadata": {},
   "source": [
    "## npm 필드"
   ]
  },
  {
   "cell_type": "markdown",
   "id": "fbff1ec7",
   "metadata": {},
   "source": [
    "- dependencies\n",
    "- devDependencies\n",
    "- scripts"
   ]
  },
  {
   "cell_type": "markdown",
   "id": "e7273c17",
   "metadata": {},
   "source": []
  }
 ],
 "metadata": {
  "language_info": {
   "name": "python"
  }
 },
 "nbformat": 4,
 "nbformat_minor": 5
}
