{
 "cells": [
  {
   "cell_type": "markdown",
   "id": "4ece2576",
   "metadata": {},
   "source": [
    "# 타입스크립트 패키지"
   ]
  },
  {
   "cell_type": "markdown",
   "id": "c7a46843",
   "metadata": {},
   "source": []
  }
 ],
 "metadata": {
  "language_info": {
   "name": "python"
  }
 },
 "nbformat": 4,
 "nbformat_minor": 5
}
