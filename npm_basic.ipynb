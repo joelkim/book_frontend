{
 "cells": [
  {
   "cell_type": "markdown",
   "id": "88ebe733",
   "metadata": {},
   "source": [
    "# npm 기본 명령"
   ]
  },
  {
   "cell_type": "markdown",
   "id": "515712c2",
   "metadata": {},
   "source": [
    "| 명령 | 기능 |\n",
    "|-|-------|\n",
    "| npm init    | 프로젝트 생성                      |\n",
    "| npm install | 프로젝트에 패키지 추가             |\n",
    "| npm list    | 프로젝트에 포함된 패키지 목록 출력 |\n",
    "| npm run     | 프로젝트 유틸리티 스크립트 실행    |\n",
    "| npm start   | 프로젝트 유틸리티 스크립트 이름이 start 인 경우 npm run start 명령을 축약하여 실행      |\n",
    "| npm stop    | 프로젝트 유틸리티 스크립트 이름이 stop 인 경우 npm run stop 명령을 축약하여 실행        |\n",
    "| npm restart | 프로젝트 유틸리티 스크립트 이름이 restart 인 경우 npm run restart 명령을 축약하여 실행  |\n",
    "| npm test    | 프로젝트 유틸리티 스크립트 이름이 test 인 경우 npm run test 명령을 축약하여 실행        |\n",
    "| npx         | 실행도구 설치 및 실행              |"
   ]
  },
  {
   "cell_type": "markdown",
   "id": "eb8ee652",
   "metadata": {},
   "source": [
    "## 프로젝트"
   ]
  },
  {
   "cell_type": "markdown",
   "id": "3d1d3a0b",
   "metadata": {},
   "source": [
    "- `package.json` 파일이 있는 디렉토리"
   ]
  },
  {
   "cell_type": "markdown",
   "id": "fa969b1d",
   "metadata": {},
   "source": [
    "## 프로젝트 생성"
   ]
  },
  {
   "cell_type": "markdown",
   "id": "144a22cf",
   "metadata": {},
   "source": [
    "- npm init 명령으로 프로젝트 생성\n",
    "- `--yes` 옵션으로 프롬프트 없이 생성\n",
    "  - 이 경우 프로젝트 이름은 해당 디렉토리의 이름으로 자동 설정됨"
   ]
  },
  {
   "cell_type": "markdown",
   "id": "c3335428",
   "metadata": {},
   "source": [
    "```bash\n",
    "npm init --yes\n",
    "```"
   ]
  },
  {
   "cell_type": "markdown",
   "id": "d7b734a0",
   "metadata": {},
   "source": [
    "## 패키지 추가"
   ]
  },
  {
   "cell_type": "markdown",
   "id": "6513f3ec",
   "metadata": {},
   "source": [
    "- npm install 명령으로 패키지 추가\n",
    "- `--save-dev` 옵션으로 개발용 패키지 추가\n",
    "- 패키지는 `node_modules` 디렉토리에 설치\n",
    "- 패키지에 실행가능 파일이 있는 경우 `node_modules/.bin` 디렉토리 아래에 설치"
   ]
  },
  {
   "cell_type": "markdown",
   "id": "48b3da4c",
   "metadata": {},
   "source": [
    "## 유틸리티 스크립트"
   ]
  },
  {
   "cell_type": "markdown",
   "id": "d515f27c",
   "metadata": {},
   "source": [
    "- `package.json` 파일의 `scripts` 항목에 실행할 스크립트를 설정 가능\n",
    "- 설정된 스크립트는 `npm run 스크립트이름` 명령으로 실행 가능\n",
    "- `node_modules/.bin` 디렉토리의 실행파일은 경로 설정없이 바로 사용 가능"
   ]
  },
  {
   "cell_type": "markdown",
   "id": "58dd3b58",
   "metadata": {},
   "source": [
    "```json\n",
    "\"scripts\": {\n",
    "   \"use_js\": \"nodemon\",\n",
    "   \"use_ts\": \"tsc-watch --onSuccess \\\"node index.js\\\"\"\n",
    "}\n",
    "```"
   ]
  },
  {
   "cell_type": "markdown",
   "id": "fd828322",
   "metadata": {},
   "source": [
    "## npx 명령"
   ]
  },
  {
   "cell_type": "markdown",
   "id": "4b8c1dca",
   "metadata": {},
   "source": [
    "- npx 명령은 실행도구(커맨드라인에서 실행할 수 있는 파일)를 제공하는 패키지를 자동으로 찾거나 캐시에 설치하여 실행한다.\n",
    "  - 찾는 순서는 로컬 설치 패키지, 글로벌 설치 패키지 순서로 찾는다.\n",
    "  - 설치된 패키지 중에서 찾지 못한 경우에는 자동으로 캐시 디렉토리에 다운로드 받아 설치한 후 실행한다.\n",
    "    "
   ]
  },
  {
   "cell_type": "markdown",
   "id": "39860509",
   "metadata": {},
   "source": []
  }
 ],
 "metadata": {
  "language_info": {
   "name": "python"
  }
 },
 "nbformat": 4,
 "nbformat_minor": 5
}
