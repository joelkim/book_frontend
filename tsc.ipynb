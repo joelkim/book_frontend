{
 "cells": [
  {
   "cell_type": "markdown",
   "id": "885313cc",
   "metadata": {},
   "source": [
    "# tsc 컴파일러"
   ]
  },
  {
   "cell_type": "markdown",
   "id": "5ad59aa0",
   "metadata": {},
   "source": [
    "- tsc 컴파일러는 타입스크립트를 컴파일하는 도구\n",
    "- `compilerOptions.rootDir` 디렉토리의 `filename.ts` 타입스크립트 파일을 읽어 \n",
    "- `compilerOptions.target` 문법에 맞는 자바스크립트 파일을 생성한 후\n",
    "- `compilerOptions.outDir` 디렉토리에 `filename.js` 파일로 저장"
   ]
  },
  {
   "cell_type": "markdown",
   "id": "200744a4",
   "metadata": {},
   "source": [
    "## 옵션"
   ]
  },
  {
   "cell_type": "markdown",
   "id": "7d87d961",
   "metadata": {},
   "source": [
    "### `--listFiles` 옵션"
   ]
  },
  {
   "cell_type": "markdown",
   "id": "a6f437c9",
   "metadata": {},
   "source": [
    "- 컴파일에 사용되는 모든 파일 목록 출력"
   ]
  },
  {
   "cell_type": "markdown",
   "id": "434d37cd",
   "metadata": {},
   "source": []
  }
 ],
 "metadata": {
  "language_info": {
   "name": "python"
  }
 },
 "nbformat": 4,
 "nbformat_minor": 5
}
