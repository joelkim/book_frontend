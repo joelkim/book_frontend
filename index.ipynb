{
 "cells": [
  {
   "cell_type": "markdown",
   "id": "bf2cf03e",
   "metadata": {},
   "source": [
    "# Frontend Book"
   ]
  },
  {
   "cell_type": "markdown",
   "id": "c42fedb3",
   "metadata": {},
   "source": []
  }
 ],
 "metadata": {
  "language_info": {
   "name": "python"
  }
 },
 "nbformat": 4,
 "nbformat_minor": 5
}
